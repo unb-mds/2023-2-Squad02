{
 "cells": [
  {
   "cell_type": "code",
   "execution_count": 14,
   "metadata": {},
   "outputs": [],
   "source": [
    "import pandas as pd\n",
    "import basedosdados as bd\n"
   ]
  },
  {
   "cell_type": "code",
   "execution_count": 35,
   "metadata": {},
   "outputs": [
    {
     "name": "stderr",
     "output_type": "stream",
     "text": [
      "Downloading: 100%|██████████| 150328/150328 [00:13<00:00, 11074.66rows/s]\n"
     ]
    }
   ],
   "source": [
    "# Para carregar o dado direto no pandas\n",
    "df = bd.read_table(dataset_id='br_inpe_prodes',\n",
    "table_id='municipio_bioma',\n",
    "billing_project_id=\"serene-mender-291402\")"
   ]
  },
  {
   "cell_type": "code",
   "execution_count": 41,
   "metadata": {},
   "outputs": [
    {
     "data": {
      "text/html": [
       "<div>\n",
       "<style scoped>\n",
       "    .dataframe tbody tr th:only-of-type {\n",
       "        vertical-align: middle;\n",
       "    }\n",
       "\n",
       "    .dataframe tbody tr th {\n",
       "        vertical-align: top;\n",
       "    }\n",
       "\n",
       "    .dataframe thead th {\n",
       "        text-align: right;\n",
       "    }\n",
       "</style>\n",
       "<table border=\"1\" class=\"dataframe\">\n",
       "  <thead>\n",
       "    <tr style=\"text-align: right;\">\n",
       "      <th></th>\n",
       "      <th>ano</th>\n",
       "      <th>id_municipio</th>\n",
       "      <th>bioma</th>\n",
       "      <th>area_total</th>\n",
       "      <th>desmatado</th>\n",
       "      <th>vegetacao_natural</th>\n",
       "      <th>nao_vegetacao_natural</th>\n",
       "      <th>hidrografia</th>\n",
       "    </tr>\n",
       "  </thead>\n",
       "  <tbody>\n",
       "    <tr>\n",
       "      <th>0</th>\n",
       "      <td>2012</td>\n",
       "      <td>1707207</td>\n",
       "      <td>Amazônia</td>\n",
       "      <td>0</td>\n",
       "      <td>61.9</td>\n",
       "      <td>-62.1</td>\n",
       "      <td>0.2</td>\n",
       "      <td>0.0</td>\n",
       "    </tr>\n",
       "    <tr>\n",
       "      <th>1</th>\n",
       "      <td>2004</td>\n",
       "      <td>1707207</td>\n",
       "      <td>Amazônia</td>\n",
       "      <td>0</td>\n",
       "      <td>60.0</td>\n",
       "      <td>-60.2</td>\n",
       "      <td>0.2</td>\n",
       "      <td>0.0</td>\n",
       "    </tr>\n",
       "    <tr>\n",
       "      <th>2</th>\n",
       "      <td>2015</td>\n",
       "      <td>1707207</td>\n",
       "      <td>Amazônia</td>\n",
       "      <td>0</td>\n",
       "      <td>61.9</td>\n",
       "      <td>-62.1</td>\n",
       "      <td>0.2</td>\n",
       "      <td>0.0</td>\n",
       "    </tr>\n",
       "    <tr>\n",
       "      <th>3</th>\n",
       "      <td>2021</td>\n",
       "      <td>1707207</td>\n",
       "      <td>Amazônia</td>\n",
       "      <td>0</td>\n",
       "      <td>61.9</td>\n",
       "      <td>-62.1</td>\n",
       "      <td>0.2</td>\n",
       "      <td>0.0</td>\n",
       "    </tr>\n",
       "    <tr>\n",
       "      <th>4</th>\n",
       "      <td>2017</td>\n",
       "      <td>1707207</td>\n",
       "      <td>Amazônia</td>\n",
       "      <td>0</td>\n",
       "      <td>61.9</td>\n",
       "      <td>-62.1</td>\n",
       "      <td>0.2</td>\n",
       "      <td>0.0</td>\n",
       "    </tr>\n",
       "  </tbody>\n",
       "</table>\n",
       "</div>"
      ],
      "text/plain": [
       "    ano id_municipio     bioma  area_total  desmatado  vegetacao_natural  \\\n",
       "0  2012      1707207  Amazônia           0       61.9              -62.1   \n",
       "1  2004      1707207  Amazônia           0       60.0              -60.2   \n",
       "2  2015      1707207  Amazônia           0       61.9              -62.1   \n",
       "3  2021      1707207  Amazônia           0       61.9              -62.1   \n",
       "4  2017      1707207  Amazônia           0       61.9              -62.1   \n",
       "\n",
       "   nao_vegetacao_natural  hidrografia  \n",
       "0                    0.2          0.0  \n",
       "1                    0.2          0.0  \n",
       "2                    0.2          0.0  \n",
       "3                    0.2          0.0  \n",
       "4                    0.2          0.0  "
      ]
     },
     "execution_count": 41,
     "metadata": {},
     "output_type": "execute_result"
    }
   ],
   "source": [
    "df.head()"
   ]
  },
  {
   "cell_type": "code",
   "execution_count": 42,
   "metadata": {},
   "outputs": [
    {
     "name": "stdout",
     "output_type": "stream",
     "text": [
      "         ano id_municipio     bioma  area_total  desmatado  vegetacao_natural  \\\n",
      "124522  2010      1300706  Amazônia       21962     2053.3            19726.1   \n",
      "124523  2011      1300706  Amazônia       21962     2111.9            19667.5   \n",
      "124524  2012      1300706  Amazônia       21962     2165.4            19614.0   \n",
      "124525  2001      1300706  Amazônia       21962     1264.8            20514.6   \n",
      "124526  2017      1300706  Amazônia       21962     2500.4            19279.0   \n",
      "124527  2020      1300706  Amazônia       21962     2893.9            18885.5   \n",
      "124528  2003      1300706  Amazônia       21962     1637.0            20142.4   \n",
      "124529  2008      1300706  Amazônia       21962     1977.7            19801.7   \n",
      "124530  2016      1300706  Amazônia       21962     2406.2            19373.2   \n",
      "124531  2006      1300706  Amazônia       21962     1905.4            19874.0   \n",
      "124532  2009      1300706  Amazônia       21962     2001.9            19777.5   \n",
      "124533  2015      1300706  Amazônia       21962     2317.8            19461.6   \n",
      "124534  2005      1300706  Amazônia       21962     1829.9            19949.5   \n",
      "124535  2021      1300706  Amazônia       21962     3094.1            18685.3   \n",
      "124536  2007      1300706  Amazônia       21962     1939.5            19839.9   \n",
      "124537  2014      1300706  Amazônia       21962     2271.6            19507.8   \n",
      "124538  2022      1300706  Amazônia       21962     3274.4            18505.0   \n",
      "124539  2000      1300706  Amazônia       21962     1209.9            20569.5   \n",
      "124540  2013      1300706  Amazônia       21962     2199.0            19580.4   \n",
      "124541  2002      1300706  Amazônia       21962     1379.4            20400.0   \n",
      "124542  2019      1300706  Amazônia       21962     2751.8            19027.6   \n",
      "124543  2018      1300706  Amazônia       21962     2607.7            19171.7   \n",
      "124544  2004      1300706  Amazônia       21962     1768.4            20011.0   \n",
      "\n",
      "        nao_vegetacao_natural  hidrografia  \n",
      "124522                   58.5        124.1  \n",
      "124523                   58.5        124.1  \n",
      "124524                   58.5        124.1  \n",
      "124525                   58.5        124.1  \n",
      "124526                   58.5        124.1  \n",
      "124527                   58.5        124.1  \n",
      "124528                   58.5        124.1  \n",
      "124529                   58.5        124.1  \n",
      "124530                   58.5        124.1  \n",
      "124531                   58.5        124.1  \n",
      "124532                   58.5        124.1  \n",
      "124533                   58.5        124.1  \n",
      "124534                   58.5        124.1  \n",
      "124535                   58.5        124.1  \n",
      "124536                   58.5        124.1  \n",
      "124537                   58.5        124.1  \n",
      "124538                   58.5        124.1  \n",
      "124539                   58.5        124.1  \n",
      "124540                   58.5        124.1  \n",
      "124541                   58.5        124.1  \n",
      "124542                   58.5        124.1  \n",
      "124543                   58.5        124.1  \n",
      "124544                   58.5        124.1  \n"
     ]
    }
   ],
   "source": [
    "selecao = df[df['id_municipio'] == '1300706']\n",
    "print(selecao)"
   ]
  }
 ],
 "metadata": {
  "kernelspec": {
   "display_name": "envunb",
   "language": "python",
   "name": "envunb"
  },
  "language_info": {
   "codemirror_mode": {
    "name": "ipython",
    "version": 3
   },
   "file_extension": ".py",
   "mimetype": "text/x-python",
   "name": "python",
   "nbconvert_exporter": "python",
   "pygments_lexer": "ipython3",
   "version": "3.10.6"
  },
  "orig_nbformat": 4
 },
 "nbformat": 4,
 "nbformat_minor": 2
}
