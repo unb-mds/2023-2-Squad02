{
 "cells": [
  {
   "cell_type": "code",
   "execution_count": 1,
   "metadata": {},
   "outputs": [],
   "source": [
    "import pandas as pd\n",
    "import basedosdados as bd\n"
   ]
  },
  {
   "cell_type": "code",
   "execution_count": 2,
   "metadata": {},
   "outputs": [
    {
     "name": "stderr",
     "output_type": "stream",
     "text": [
      "Downloading: 100%|██████████| 150328/150328 [00:13<00:00, 11063.97rows/s]\n"
     ]
    }
   ],
   "source": [
    "# Para carregar o dado direto no pandas\n",
    "df = bd.read_table(dataset_id='br_inpe_prodes',table_id='municipio_bioma',billing_project_id=\"serene-mender-291402\")"
   ]
  },
  {
   "cell_type": "code",
   "execution_count": 38,
   "metadata": {},
   "outputs": [
    {
     "data": {
      "text/html": [
       "<div>\n",
       "<style scoped>\n",
       "    .dataframe tbody tr th:only-of-type {\n",
       "        vertical-align: middle;\n",
       "    }\n",
       "\n",
       "    .dataframe tbody tr th {\n",
       "        vertical-align: top;\n",
       "    }\n",
       "\n",
       "    .dataframe thead th {\n",
       "        text-align: right;\n",
       "    }\n",
       "</style>\n",
       "<table border=\"1\" class=\"dataframe\">\n",
       "  <thead>\n",
       "    <tr style=\"text-align: right;\">\n",
       "      <th></th>\n",
       "      <th>ano</th>\n",
       "      <th>id_municipio</th>\n",
       "      <th>bioma</th>\n",
       "      <th>area_total</th>\n",
       "      <th>desmatado</th>\n",
       "      <th>vegetacao_natural</th>\n",
       "      <th>nao_vegetacao_natural</th>\n",
       "      <th>hidrografia</th>\n",
       "    </tr>\n",
       "  </thead>\n",
       "  <tbody>\n",
       "    <tr>\n",
       "      <th>0</th>\n",
       "      <td>2012</td>\n",
       "      <td>1707207</td>\n",
       "      <td>Amazônia</td>\n",
       "      <td>0</td>\n",
       "      <td>61.9</td>\n",
       "      <td>-62.1</td>\n",
       "      <td>0.2</td>\n",
       "      <td>0.0</td>\n",
       "    </tr>\n",
       "    <tr>\n",
       "      <th>1</th>\n",
       "      <td>2004</td>\n",
       "      <td>1707207</td>\n",
       "      <td>Amazônia</td>\n",
       "      <td>0</td>\n",
       "      <td>60.0</td>\n",
       "      <td>-60.2</td>\n",
       "      <td>0.2</td>\n",
       "      <td>0.0</td>\n",
       "    </tr>\n",
       "    <tr>\n",
       "      <th>2</th>\n",
       "      <td>2015</td>\n",
       "      <td>1707207</td>\n",
       "      <td>Amazônia</td>\n",
       "      <td>0</td>\n",
       "      <td>61.9</td>\n",
       "      <td>-62.1</td>\n",
       "      <td>0.2</td>\n",
       "      <td>0.0</td>\n",
       "    </tr>\n",
       "    <tr>\n",
       "      <th>3</th>\n",
       "      <td>2021</td>\n",
       "      <td>1707207</td>\n",
       "      <td>Amazônia</td>\n",
       "      <td>0</td>\n",
       "      <td>61.9</td>\n",
       "      <td>-62.1</td>\n",
       "      <td>0.2</td>\n",
       "      <td>0.0</td>\n",
       "    </tr>\n",
       "    <tr>\n",
       "      <th>4</th>\n",
       "      <td>2017</td>\n",
       "      <td>1707207</td>\n",
       "      <td>Amazônia</td>\n",
       "      <td>0</td>\n",
       "      <td>61.9</td>\n",
       "      <td>-62.1</td>\n",
       "      <td>0.2</td>\n",
       "      <td>0.0</td>\n",
       "    </tr>\n",
       "  </tbody>\n",
       "</table>\n",
       "</div>"
      ],
      "text/plain": [
       "    ano id_municipio     bioma  area_total  desmatado  vegetacao_natural  \\\n",
       "0  2012      1707207  Amazônia           0       61.9              -62.1   \n",
       "1  2004      1707207  Amazônia           0       60.0              -60.2   \n",
       "2  2015      1707207  Amazônia           0       61.9              -62.1   \n",
       "3  2021      1707207  Amazônia           0       61.9              -62.1   \n",
       "4  2017      1707207  Amazônia           0       61.9              -62.1   \n",
       "\n",
       "   nao_vegetacao_natural  hidrografia  \n",
       "0                    0.2          0.0  \n",
       "1                    0.2          0.0  \n",
       "2                    0.2          0.0  \n",
       "3                    0.2          0.0  \n",
       "4                    0.2          0.0  "
      ]
     },
     "execution_count": 38,
     "metadata": {},
     "output_type": "execute_result"
    }
   ],
   "source": [
    "df.head()"
   ]
  },
  {
   "attachments": {},
   "cell_type": "markdown",
   "metadata": {},
   "source": [
    "Convertendo codigos dos municipios para seus respectivos nomes"
   ]
  },
  {
   "cell_type": "code",
   "execution_count": 3,
   "metadata": {},
   "outputs": [
    {
     "name": "stdout",
     "output_type": "stream",
     "text": [
      "WARNING *** OLE2 inconsistency: SSCS size is 0 but SSAT size is non-zero\n",
      "*** No CODEPAGE record, no encoding_override: will use 'iso-8859-1'\n"
     ]
    }
   ],
   "source": [
    "caminho_arquivo = './RELATORIO_DTB_BRASIL_MUNICIPIO.xls' \n",
    "ibge_df = pd.read_excel(caminho_arquivo)\n",
    "\n",
    "selecao = ibge_df[ibge_df['Unnamed: 1'] == 'Amazonas']\n",
    "amazonas_df = pd.DataFrame(selecao).reset_index(drop=True)\n",
    "colunas_para_manter = ['Unnamed: 11', 'Unnamed: 12']\n",
    "amazonas_df = amazonas_df[colunas_para_manter]\n",
    "municipios_amazonas = amazonas_df.set_index('Unnamed: 11')['Unnamed: 12'].to_dict()\n",
    "#print(municipios_amazonas)\n",
    "\n",
    "df_amazonas = df[df['id_municipio'].isin(municipios_amazonas.keys())]\n",
    "df_amazonas['id_municipio'] = df_amazonas['id_municipio'].map(municipios_amazonas)"
   ]
  },
  {
   "attachments": {},
   "cell_type": "markdown",
   "metadata": {},
   "source": [
    "Salvando dados somente do estado do Amazonas"
   ]
  },
  {
   "cell_type": "code",
   "execution_count": 4,
   "metadata": {},
   "outputs": [],
   "source": [
    "#Renomeando coluna e salva dados do amazonas\n",
    "df_amazonas = df_amazonas.rename(columns={'id_municipio': 'municipio'})\n",
    "df_amazonas.to_csv('amazonas_desmatamento.csv')\n"
   ]
  },
  {
   "cell_type": "code",
   "execution_count": 5,
   "metadata": {},
   "outputs": [
    {
     "data": {
      "text/html": [
       "<div>\n",
       "<style scoped>\n",
       "    .dataframe tbody tr th:only-of-type {\n",
       "        vertical-align: middle;\n",
       "    }\n",
       "\n",
       "    .dataframe tbody tr th {\n",
       "        vertical-align: top;\n",
       "    }\n",
       "\n",
       "    .dataframe thead th {\n",
       "        text-align: right;\n",
       "    }\n",
       "</style>\n",
       "<table border=\"1\" class=\"dataframe\">\n",
       "  <thead>\n",
       "    <tr style=\"text-align: right;\">\n",
       "      <th></th>\n",
       "      <th>Unnamed: 0</th>\n",
       "      <th>ano</th>\n",
       "      <th>municipio</th>\n",
       "      <th>bioma</th>\n",
       "      <th>area_total</th>\n",
       "      <th>desmatado</th>\n",
       "      <th>vegetacao_natural</th>\n",
       "      <th>nao_vegetacao_natural</th>\n",
       "      <th>hidrografia</th>\n",
       "    </tr>\n",
       "  </thead>\n",
       "  <tbody>\n",
       "    <tr>\n",
       "      <th>0</th>\n",
       "      <td>12259</td>\n",
       "      <td>2006</td>\n",
       "      <td>Santo Antônio do Içá</td>\n",
       "      <td>Amazônia</td>\n",
       "      <td>12306</td>\n",
       "      <td>130.0</td>\n",
       "      <td>11650.7</td>\n",
       "      <td>89.4</td>\n",
       "      <td>435.9</td>\n",
       "    </tr>\n",
       "    <tr>\n",
       "      <th>1</th>\n",
       "      <td>12260</td>\n",
       "      <td>2009</td>\n",
       "      <td>Santo Antônio do Içá</td>\n",
       "      <td>Amazônia</td>\n",
       "      <td>12306</td>\n",
       "      <td>133.4</td>\n",
       "      <td>11647.3</td>\n",
       "      <td>89.4</td>\n",
       "      <td>435.9</td>\n",
       "    </tr>\n",
       "    <tr>\n",
       "      <th>2</th>\n",
       "      <td>12261</td>\n",
       "      <td>2014</td>\n",
       "      <td>Santo Antônio do Içá</td>\n",
       "      <td>Amazônia</td>\n",
       "      <td>12306</td>\n",
       "      <td>137.2</td>\n",
       "      <td>11643.5</td>\n",
       "      <td>89.4</td>\n",
       "      <td>435.9</td>\n",
       "    </tr>\n",
       "    <tr>\n",
       "      <th>3</th>\n",
       "      <td>12262</td>\n",
       "      <td>2010</td>\n",
       "      <td>Santo Antônio do Içá</td>\n",
       "      <td>Amazônia</td>\n",
       "      <td>12306</td>\n",
       "      <td>134.2</td>\n",
       "      <td>11646.5</td>\n",
       "      <td>89.4</td>\n",
       "      <td>435.9</td>\n",
       "    </tr>\n",
       "    <tr>\n",
       "      <th>4</th>\n",
       "      <td>12263</td>\n",
       "      <td>2012</td>\n",
       "      <td>Santo Antônio do Içá</td>\n",
       "      <td>Amazônia</td>\n",
       "      <td>12306</td>\n",
       "      <td>137.2</td>\n",
       "      <td>11643.5</td>\n",
       "      <td>89.4</td>\n",
       "      <td>435.9</td>\n",
       "    </tr>\n",
       "  </tbody>\n",
       "</table>\n",
       "</div>"
      ],
      "text/plain": [
       "   Unnamed: 0   ano             municipio     bioma  area_total  desmatado  \\\n",
       "0       12259  2006  Santo Antônio do Içá  Amazônia       12306      130.0   \n",
       "1       12260  2009  Santo Antônio do Içá  Amazônia       12306      133.4   \n",
       "2       12261  2014  Santo Antônio do Içá  Amazônia       12306      137.2   \n",
       "3       12262  2010  Santo Antônio do Içá  Amazônia       12306      134.2   \n",
       "4       12263  2012  Santo Antônio do Içá  Amazônia       12306      137.2   \n",
       "\n",
       "   vegetacao_natural  nao_vegetacao_natural  hidrografia  \n",
       "0            11650.7                   89.4        435.9  \n",
       "1            11647.3                   89.4        435.9  \n",
       "2            11643.5                   89.4        435.9  \n",
       "3            11646.5                   89.4        435.9  \n",
       "4            11643.5                   89.4        435.9  "
      ]
     },
     "execution_count": 5,
     "metadata": {},
     "output_type": "execute_result"
    }
   ],
   "source": [
    "df_amazonas = pd.read_csv('amazonas_desmatamento.csv')\n",
    "df_amazonas.head()"
   ]
  },
  {
   "cell_type": "code",
   "execution_count": 8,
   "metadata": {},
   "outputs": [
    {
     "data": {
      "text/plain": [
       "bioma\n",
       "Amazônia    1426\n",
       "dtype: int64"
      ]
     },
     "execution_count": 8,
     "metadata": {},
     "output_type": "execute_result"
    }
   ],
   "source": [
    "df_amazonas.groupby('').size()\n",
    "\n",
    "\n",
    "municipio:\n",
    "    ano:\n",
    "        area total:\n",
    "        desmatado:\n",
    "\n"
   ]
  }
 ],
 "metadata": {
  "kernelspec": {
   "display_name": "envunb",
   "language": "python",
   "name": "python3"
  },
  "language_info": {
   "codemirror_mode": {
    "name": "ipython",
    "version": 3
   },
   "file_extension": ".py",
   "mimetype": "text/x-python",
   "name": "python",
   "nbconvert_exporter": "python",
   "pygments_lexer": "ipython3",
   "version": "3.10.6"
  },
  "orig_nbformat": 4
 },
 "nbformat": 4,
 "nbformat_minor": 2
}
