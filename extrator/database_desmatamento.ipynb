{
 "cells": [
  {
   "cell_type": "code",
   "execution_count": 2,
   "metadata": {},
   "outputs": [],
   "source": [
    "import pandas as pd\n",
    "import basedosdados as bd\n"
   ]
  },
  {
   "cell_type": "code",
   "execution_count": null,
   "metadata": {},
   "outputs": [],
   "source": [
    "# Para carregar o dado direto no pandas\n",
    "df = bd.read_table(dataset_id='br_inpe_prodes',table_id='municipio_bioma',billing_project_id=\"serene-mender-291402\")"
   ]
  },
  {
   "cell_type": "code",
   "execution_count": null,
   "metadata": {},
   "outputs": [],
   "source": [
    "df.head()"
   ]
  },
  {
   "attachments": {},
   "cell_type": "markdown",
   "metadata": {},
   "source": [
    "Convertendo codigos dos municipios para seus respectivos nomes"
   ]
  },
  {
   "cell_type": "code",
   "execution_count": null,
   "metadata": {},
   "outputs": [],
   "source": [
    "caminho_arquivo = './RELATORIO_DTB_BRASIL_MUNICIPIO.xls' \n",
    "ibge_df = pd.read_excel(caminho_arquivo)\n",
    "\n",
    "selecao = ibge_df[ibge_df['Unnamed: 1'] == 'Amazonas']\n",
    "amazonas_df = pd.DataFrame(selecao).reset_index(drop=True)\n",
    "colunas_para_manter = ['Unnamed: 11', 'Unnamed: 12']\n",
    "amazonas_df = amazonas_df[colunas_para_manter]\n",
    "municipios_amazonas = amazonas_df.set_index('Unnamed: 11')['Unnamed: 12'].to_dict()\n",
    "#print(municipios_amazonas)\n",
    "\n",
    "df_amazonas = df[df['id_municipio'].isin(municipios_amazonas.keys())]\n",
    "df_amazonas['id_municipio'] = df_amazonas['id_municipio'].map(municipios_amazonas)"
   ]
  },
  {
   "attachments": {},
   "cell_type": "markdown",
   "metadata": {},
   "source": [
    "Salvando dados somente do estado do Amazonas"
   ]
  },
  {
   "cell_type": "code",
   "execution_count": 4,
   "metadata": {},
   "outputs": [],
   "source": [
    "#Renomeando coluna e salva dados do amazonas\n",
    "df_amazonas = df_amazonas.rename(columns={'id_municipio': 'municipio'})\n",
    "df_amazonas.to_csv('amazonas_desmatamento.csv')\n"
   ]
  },
  {
   "cell_type": "code",
   "execution_count": 3,
   "metadata": {},
   "outputs": [
    {
     "data": {
      "text/html": [
       "<div>\n",
       "<style scoped>\n",
       "    .dataframe tbody tr th:only-of-type {\n",
       "        vertical-align: middle;\n",
       "    }\n",
       "\n",
       "    .dataframe tbody tr th {\n",
       "        vertical-align: top;\n",
       "    }\n",
       "\n",
       "    .dataframe thead th {\n",
       "        text-align: right;\n",
       "    }\n",
       "</style>\n",
       "<table border=\"1\" class=\"dataframe\">\n",
       "  <thead>\n",
       "    <tr style=\"text-align: right;\">\n",
       "      <th></th>\n",
       "      <th>id</th>\n",
       "      <th>ano</th>\n",
       "      <th>municipio</th>\n",
       "      <th>bioma</th>\n",
       "      <th>area_total</th>\n",
       "      <th>desmatado</th>\n",
       "      <th>vegetacao_natural</th>\n",
       "      <th>nao_vegetacao_natural</th>\n",
       "      <th>hidrografia</th>\n",
       "    </tr>\n",
       "  </thead>\n",
       "  <tbody>\n",
       "    <tr>\n",
       "      <th>0</th>\n",
       "      <td>12259</td>\n",
       "      <td>2006</td>\n",
       "      <td>Santo Antônio do Içá</td>\n",
       "      <td>Amazônia</td>\n",
       "      <td>12306</td>\n",
       "      <td>130.0</td>\n",
       "      <td>11650.7</td>\n",
       "      <td>89.4</td>\n",
       "      <td>435.9</td>\n",
       "    </tr>\n",
       "    <tr>\n",
       "      <th>1</th>\n",
       "      <td>12260</td>\n",
       "      <td>2009</td>\n",
       "      <td>Santo Antônio do Içá</td>\n",
       "      <td>Amazônia</td>\n",
       "      <td>12306</td>\n",
       "      <td>133.4</td>\n",
       "      <td>11647.3</td>\n",
       "      <td>89.4</td>\n",
       "      <td>435.9</td>\n",
       "    </tr>\n",
       "    <tr>\n",
       "      <th>2</th>\n",
       "      <td>12261</td>\n",
       "      <td>2014</td>\n",
       "      <td>Santo Antônio do Içá</td>\n",
       "      <td>Amazônia</td>\n",
       "      <td>12306</td>\n",
       "      <td>137.2</td>\n",
       "      <td>11643.5</td>\n",
       "      <td>89.4</td>\n",
       "      <td>435.9</td>\n",
       "    </tr>\n",
       "    <tr>\n",
       "      <th>3</th>\n",
       "      <td>12262</td>\n",
       "      <td>2010</td>\n",
       "      <td>Santo Antônio do Içá</td>\n",
       "      <td>Amazônia</td>\n",
       "      <td>12306</td>\n",
       "      <td>134.2</td>\n",
       "      <td>11646.5</td>\n",
       "      <td>89.4</td>\n",
       "      <td>435.9</td>\n",
       "    </tr>\n",
       "    <tr>\n",
       "      <th>4</th>\n",
       "      <td>12263</td>\n",
       "      <td>2012</td>\n",
       "      <td>Santo Antônio do Içá</td>\n",
       "      <td>Amazônia</td>\n",
       "      <td>12306</td>\n",
       "      <td>137.2</td>\n",
       "      <td>11643.5</td>\n",
       "      <td>89.4</td>\n",
       "      <td>435.9</td>\n",
       "    </tr>\n",
       "  </tbody>\n",
       "</table>\n",
       "</div>"
      ],
      "text/plain": [
       "      id   ano             municipio     bioma  area_total  desmatado  \\\n",
       "0  12259  2006  Santo Antônio do Içá  Amazônia       12306      130.0   \n",
       "1  12260  2009  Santo Antônio do Içá  Amazônia       12306      133.4   \n",
       "2  12261  2014  Santo Antônio do Içá  Amazônia       12306      137.2   \n",
       "3  12262  2010  Santo Antônio do Içá  Amazônia       12306      134.2   \n",
       "4  12263  2012  Santo Antônio do Içá  Amazônia       12306      137.2   \n",
       "\n",
       "   vegetacao_natural  nao_vegetacao_natural  hidrografia  \n",
       "0            11650.7                   89.4        435.9  \n",
       "1            11647.3                   89.4        435.9  \n",
       "2            11643.5                   89.4        435.9  \n",
       "3            11646.5                   89.4        435.9  \n",
       "4            11643.5                   89.4        435.9  "
      ]
     },
     "execution_count": 3,
     "metadata": {},
     "output_type": "execute_result"
    }
   ],
   "source": [
    "df_amazonas = pd.read_csv('amazonas_desmatamento.csv')\n",
    "df_amazonas.head()"
   ]
  },
  {
   "cell_type": "code",
   "execution_count": 5,
   "metadata": {},
   "outputs": [
    {
     "name": "stdout",
     "output_type": "stream",
     "text": [
      "O resultado foi salvo em /home/daramariabas/Documentos/UNB/2023-2/2023-2-Squad02/extrator/dados_desmatamento_json/dados_gerais/total_desmatado_ano.json\n"
     ]
    }
   ],
   "source": [
    "import pandas as pd\n",
    "import json\n",
    "\n",
    "df_amazonas = pd.read_csv('/home/daramariabas/Documentos/UNB/2023-2/2023-2-Squad02/extrator/amazonas_desmatamento.csv')\n",
    "\n",
    "# Calcular a soma do desmatamento para cada ano\n",
    "soma_desmatado_por_ano = df_amazonas.groupby('ano')['desmatado'].sum().reset_index()\n",
    "\n",
    "# Converter para um dicionário\n",
    "resultado_dict = soma_desmatado_por_ano.to_dict(orient='records')\n",
    "\n",
    "# Especificar o caminho do arquivo para salvar o JSON\n",
    "caminho_arquivo_json = '/home/daramariabas/Documentos/UNB/2023-2/2023-2-Squad02/extrator/dados_desmatamento_json/dados_gerais/total_desmatado_ano.json'\n",
    "\n",
    "# Salvar o resultado em um arquivo JSON\n",
    "with open(caminho_arquivo_json, 'w') as arquivo_json:\n",
    "    json.dump(resultado_dict, arquivo_json, indent=2)\n",
    "\n",
    "print(f'O resultado foi salvo em {caminho_arquivo_json}')"
   ]
  }
 ],
 "metadata": {
  "kernelspec": {
   "display_name": "envunb",
   "language": "python",
   "name": "python3"
  },
  "language_info": {
   "codemirror_mode": {
    "name": "ipython",
    "version": 3
   },
   "file_extension": ".py",
   "mimetype": "text/x-python",
   "name": "python",
   "nbconvert_exporter": "python",
   "pygments_lexer": "ipython3",
   "version": "3.10.6"

  },
  "orig_nbformat": 4
 },
 "nbformat": 4,
 "nbformat_minor": 2
}
